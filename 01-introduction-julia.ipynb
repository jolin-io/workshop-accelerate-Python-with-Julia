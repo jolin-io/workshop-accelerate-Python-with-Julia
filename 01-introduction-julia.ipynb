{
 "cells": [
  {
   "cell_type": "code",
   "execution_count": 1,
   "metadata": {},
   "outputs": [
    {
     "name": "stdout",
     "output_type": "stream",
     "text": [
      "Initializing Julia interpreter. This may take some time...\n"
     ]
    }
   ],
   "source": [
    "import julia\n",
    "from julia.api import Julia\n",
    "# no precompilation gives faster loading times, however GPU support through CUDA does not work\n",
    "jl = Julia(compiled_modules=False)\n",
    "%load_ext julia.magic"
   ]
  },
  {
   "cell_type": "code",
   "execution_count": 4,
   "metadata": {},
   "outputs": [
    {
     "name": "stdout",
     "output_type": "stream",
     "text": [
      "<class 'numpy.ndarray'> [14 16 18]\n"
     ]
    }
   ],
   "source": [
    "import numpy as np\n",
    "z = np.array([7, 8, 9])    \n",
    "\n",
    "# we pass it to a Julia function and get back a Python numpy array\n",
    "%julia double(x) = 2x\n",
    "a = %julia double.($z)      \n",
    "\n",
    "print(type(a), a)"
   ]
  },
  {
   "cell_type": "code",
   "execution_count": 5,
   "metadata": {},
   "outputs": [
    {
     "name": "stdout",
     "output_type": "stream",
     "text": [
      "The slowest run took 25.95 times longer than the fastest. This could mean that an intermediate result is being cached.\n",
      "7.46 µs ± 13.5 µs per loop (mean ± std. dev. of 7 runs, 10 loops each)\n"
     ]
    }
   ],
   "source": [
    "%timeit -n 10 np.array([7,8,9]) * 2"
   ]
  },
  {
   "cell_type": "code",
   "execution_count": 7,
   "metadata": {},
   "outputs": [
    {
     "ename": "RuntimeError",
     "evalue": "<PyCall.jlwrap (in a Julia function called from Python)\nJULIA: UndefVarError: Pkt not defined\nStacktrace:\n  [1] top-level scope\n    @ none:4\n  [2] eval\n    @ ./boot.jl:368 [inlined]\n  [3] eval\n    @ ./Base.jl:65 [inlined]\n  [4] (::var\"#7#8\")(globals::PyObject, locals::PyObject)\n    @ Main ~/Projects/Jolin.io/workshop-accelerate-Python-with-Julia/.venv/lib/python3.10/site-packages/julia/pyjulia_helper.jl:91\n  [5] (::PyCall.FuncWrapper{Tuple{PyObject, PyObject}, var\"#7#8\"})(::PyObject, ::Vararg{PyObject}; kws::Base.Pairs{Symbol, Union{}, Tuple{}, NamedTuple{(), Tuple{}}})\n    @ PyCall ~/.julia/packages/PyCall/twYvK/src/callback.jl:56\n  [6] (::PyCall.FuncWrapper{Tuple{PyObject, PyObject}, var\"#7#8\"})(::PyObject, ::Vararg{PyObject})\n    @ PyCall ~/.julia/packages/PyCall/twYvK/src/callback.jl:56\n  [7] invokelatest(::Any, ::Any, ::Vararg{Any}; kwargs::Base.Pairs{Symbol, Union{}, Tuple{}, NamedTuple{(), Tuple{}}})\n    @ Base ./essentials.jl:729\n  [8] invokelatest(::Any, ::Any, ::Vararg{Any})\n    @ Base ./essentials.jl:726\n  [9] _pyjlwrap_call(f::PyCall.FuncWrapper{Tuple{PyObject, PyObject}, var\"#7#8\"}, args_::Ptr{PyCall.PyObject_struct}, kw_::Ptr{PyCall.PyObject_struct})\n    @ PyCall ~/.julia/packages/PyCall/twYvK/src/callback.jl:28\n [10] pyjlwrap_call(self_::Ptr{PyCall.PyObject_struct}, args_::Ptr{PyCall.PyObject_struct}, kw_::Ptr{PyCall.PyObject_struct})\n    @ PyCall ~/.julia/packages/PyCall/twYvK/src/callback.jl:44>",
     "output_type": "error",
     "traceback": [
      "\u001b[0;31m---------------------------------------------------------------------------\u001b[0m",
      "\u001b[0;31mRuntimeError\u001b[0m                              Traceback (most recent call last)",
      "Cell \u001b[0;32mIn[7], line 1\u001b[0m\n\u001b[0;32m----> 1\u001b[0m \u001b[43mget_ipython\u001b[49m\u001b[43m(\u001b[49m\u001b[43m)\u001b[49m\u001b[38;5;241;43m.\u001b[39;49m\u001b[43mrun_cell_magic\u001b[49m\u001b[43m(\u001b[49m\u001b[38;5;124;43m'\u001b[39;49m\u001b[38;5;124;43mjulia\u001b[39;49m\u001b[38;5;124;43m'\u001b[39;49m\u001b[43m,\u001b[49m\u001b[43m \u001b[49m\u001b[38;5;124;43m'\u001b[39;49m\u001b[38;5;124;43m'\u001b[39;49m\u001b[43m,\u001b[49m\u001b[43m \u001b[49m\u001b[38;5;124;43m'\u001b[39;49m\u001b[38;5;124;43mimport Pkg\u001b[39;49m\u001b[38;5;130;43;01m\\n\u001b[39;49;00m\u001b[38;5;124;43mPkt.status()\u001b[39;49m\u001b[38;5;130;43;01m\\n\u001b[39;49;00m\u001b[38;5;124;43m'\u001b[39;49m\u001b[43m)\u001b[49m\n",
      "File \u001b[0;32m~/Projects/Jolin.io/workshop-accelerate-Python-with-Julia/.venv/lib/python3.10/site-packages/IPython/core/interactiveshell.py:2475\u001b[0m, in \u001b[0;36mInteractiveShell.run_cell_magic\u001b[0;34m(self, magic_name, line, cell)\u001b[0m\n\u001b[1;32m   2473\u001b[0m \u001b[39mwith\u001b[39;00m \u001b[39mself\u001b[39m\u001b[39m.\u001b[39mbuiltin_trap:\n\u001b[1;32m   2474\u001b[0m     args \u001b[39m=\u001b[39m (magic_arg_s, cell)\n\u001b[0;32m-> 2475\u001b[0m     result \u001b[39m=\u001b[39m fn(\u001b[39m*\u001b[39;49margs, \u001b[39m*\u001b[39;49m\u001b[39m*\u001b[39;49mkwargs)\n\u001b[1;32m   2477\u001b[0m \u001b[39m# The code below prevents the output from being displayed\u001b[39;00m\n\u001b[1;32m   2478\u001b[0m \u001b[39m# when using magics with decodator @output_can_be_silenced\u001b[39;00m\n\u001b[1;32m   2479\u001b[0m \u001b[39m# when the last Python token in the expression is a ';'.\u001b[39;00m\n\u001b[1;32m   2480\u001b[0m \u001b[39mif\u001b[39;00m \u001b[39mgetattr\u001b[39m(fn, magic\u001b[39m.\u001b[39mMAGIC_OUTPUT_CAN_BE_SILENCED, \u001b[39mFalse\u001b[39;00m):\n",
      "File \u001b[0;32m~/Projects/Jolin.io/workshop-accelerate-Python-with-Julia/.venv/lib/python3.10/site-packages/julia/magic.py:130\u001b[0m, in \u001b[0;36mJuliaMagics.julia\u001b[0;34m(self, line, cell)\u001b[0m\n\u001b[1;32m    126\u001b[0m     caller_frame \u001b[39m=\u001b[39m caller_frame\u001b[39m.\u001b[39mf_back\n\u001b[1;32m    128\u001b[0m return_value \u001b[39m=\u001b[39m \u001b[39m\"\u001b[39m\u001b[39mnothing\u001b[39m\u001b[39m\"\u001b[39m \u001b[39mif\u001b[39;00m src\u001b[39m.\u001b[39mstrip()\u001b[39m.\u001b[39mendswith(\u001b[39m\"\u001b[39m\u001b[39m;\u001b[39m\u001b[39m\"\u001b[39m) \u001b[39melse\u001b[39;00m \u001b[39m\"\u001b[39m\u001b[39m\"\u001b[39m\n\u001b[0;32m--> 130\u001b[0m \u001b[39mreturn\u001b[39;00m \u001b[39mself\u001b[39;49m\u001b[39m.\u001b[39;49m_julia\u001b[39m.\u001b[39;49meval(\n\u001b[1;32m    131\u001b[0m \u001b[39m    \u001b[39;49m\u001b[39m\"\"\"\u001b[39;49;00m\n\u001b[1;32m    132\u001b[0m \u001b[39m    _PyJuliaHelper.@prepare_for_pyjulia_call begin\u001b[39;49;00m\n\u001b[1;32m    133\u001b[0m \u001b[39m        begin %s end\u001b[39;49;00m\n\u001b[1;32m    134\u001b[0m \u001b[39m        %s\u001b[39;49;00m\n\u001b[1;32m    135\u001b[0m \u001b[39m    end\u001b[39;49;00m\n\u001b[1;32m    136\u001b[0m \u001b[39m    \"\"\"\u001b[39;49;00m\n\u001b[1;32m    137\u001b[0m     \u001b[39m%\u001b[39;49m (src, return_value)\n\u001b[1;32m    138\u001b[0m )(\u001b[39mself\u001b[39;49m\u001b[39m.\u001b[39;49mshell\u001b[39m.\u001b[39;49muser_ns, caller_frame\u001b[39m.\u001b[39;49mf_locals)\n",
      "\u001b[0;31mRuntimeError\u001b[0m: <PyCall.jlwrap (in a Julia function called from Python)\nJULIA: UndefVarError: Pkt not defined\nStacktrace:\n  [1] top-level scope\n    @ none:4\n  [2] eval\n    @ ./boot.jl:368 [inlined]\n  [3] eval\n    @ ./Base.jl:65 [inlined]\n  [4] (::var\"#7#8\")(globals::PyObject, locals::PyObject)\n    @ Main ~/Projects/Jolin.io/workshop-accelerate-Python-with-Julia/.venv/lib/python3.10/site-packages/julia/pyjulia_helper.jl:91\n  [5] (::PyCall.FuncWrapper{Tuple{PyObject, PyObject}, var\"#7#8\"})(::PyObject, ::Vararg{PyObject}; kws::Base.Pairs{Symbol, Union{}, Tuple{}, NamedTuple{(), Tuple{}}})\n    @ PyCall ~/.julia/packages/PyCall/twYvK/src/callback.jl:56\n  [6] (::PyCall.FuncWrapper{Tuple{PyObject, PyObject}, var\"#7#8\"})(::PyObject, ::Vararg{PyObject})\n    @ PyCall ~/.julia/packages/PyCall/twYvK/src/callback.jl:56\n  [7] invokelatest(::Any, ::Any, ::Vararg{Any}; kwargs::Base.Pairs{Symbol, Union{}, Tuple{}, NamedTuple{(), Tuple{}}})\n    @ Base ./essentials.jl:729\n  [8] invokelatest(::Any, ::Any, ::Vararg{Any})\n    @ Base ./essentials.jl:726\n  [9] _pyjlwrap_call(f::PyCall.FuncWrapper{Tuple{PyObject, PyObject}, var\"#7#8\"}, args_::Ptr{PyCall.PyObject_struct}, kw_::Ptr{PyCall.PyObject_struct})\n    @ PyCall ~/.julia/packages/PyCall/twYvK/src/callback.jl:28\n [10] pyjlwrap_call(self_::Ptr{PyCall.PyObject_struct}, args_::Ptr{PyCall.PyObject_struct}, kw_::Ptr{PyCall.PyObject_struct})\n    @ PyCall ~/.julia/packages/PyCall/twYvK/src/callback.jl:44>"
     ]
    }
   ],
   "source": [
    "%%julia\n",
    "import Pkg\n",
    "Pkt.status()"
   ]
  },
  {
   "cell_type": "code",
   "execution_count": 6,
   "metadata": {},
   "outputs": [
    {
     "ename": "ImportError",
     "evalue": "<PyCall.jlwrap (in a Julia function called from Python)\nJULIA: LoadError: UndefVarError: @btime not defined\nStacktrace:\n  [1] top-level scope\n    @ :0\n  [2] eval\n    @ ./boot.jl:368 [inlined]\n  [3] eval\n    @ ./Base.jl:65 [inlined]\n  [4] (::var\"#5#6\")(globals::PyObject, locals::PyObject)\n    @ Main ~/Projects/Jolin.io/workshop-accelerate-Python-with-Julia/.venv/lib/python3.10/site-packages/julia/pyjulia_helper.jl:91\n  [5] (::PyCall.FuncWrapper{Tuple{PyObject, PyObject}, var\"#5#6\"})(::PyObject, ::Vararg{PyObject}; kws::Base.Pairs{Symbol, Union{}, Tuple{}, NamedTuple{(), Tuple{}}})\n    @ PyCall ~/.julia/packages/PyCall/twYvK/src/callback.jl:56\n  [6] (::PyCall.FuncWrapper{Tuple{PyObject, PyObject}, var\"#5#6\"})(::PyObject, ::Vararg{PyObject})\n    @ PyCall ~/.julia/packages/PyCall/twYvK/src/callback.jl:56\n  [7] invokelatest(::Any, ::Any, ::Vararg{Any}; kwargs::Base.Pairs{Symbol, Union{}, Tuple{}, NamedTuple{(), Tuple{}}})\n    @ Base ./essentials.jl:729\n  [8] invokelatest(::Any, ::Any, ::Vararg{Any})\n    @ Base ./essentials.jl:726\n  [9] _pyjlwrap_call(f::PyCall.FuncWrapper{Tuple{PyObject, PyObject}, var\"#5#6\"}, args_::Ptr{PyCall.PyObject_struct}, kw_::Ptr{PyCall.PyObject_struct})\n    @ PyCall ~/.julia/packages/PyCall/twYvK/src/callback.jl:28\n [10] pyjlwrap_call(self_::Ptr{PyCall.PyObject_struct}, args_::Ptr{PyCall.PyObject_struct}, kw_::Ptr{PyCall.PyObject_struct})\n    @ PyCall ~/.julia/packages/PyCall/twYvK/src/callback.jl:44\nin expression starting at none:4>",
     "output_type": "error",
     "traceback": [
      "\u001b[0;31m---------------------------------------------------------------------------\u001b[0m",
      "\u001b[0;31mImportError\u001b[0m                               Traceback (most recent call last)",
      "Cell \u001b[0;32mIn[6], line 1\u001b[0m\n\u001b[0;32m----> 1\u001b[0m \u001b[43mget_ipython\u001b[49m\u001b[43m(\u001b[49m\u001b[43m)\u001b[49m\u001b[38;5;241;43m.\u001b[39;49m\u001b[43mrun_cell_magic\u001b[49m\u001b[43m(\u001b[49m\u001b[38;5;124;43m'\u001b[39;49m\u001b[38;5;124;43mjulia\u001b[39;49m\u001b[38;5;124;43m'\u001b[39;49m\u001b[43m,\u001b[49m\u001b[43m \u001b[49m\u001b[38;5;124;43m'\u001b[39;49m\u001b[38;5;124;43m'\u001b[39;49m\u001b[43m,\u001b[49m\u001b[43m \u001b[49m\u001b[38;5;124;43m'\u001b[39;49m\u001b[38;5;124;43musing BenchmarkTools\u001b[39;49m\u001b[38;5;130;43;01m\\n\u001b[39;49;00m\u001b[38;5;124;43m@btime double.([7,8,9])\u001b[39;49m\u001b[38;5;130;43;01m\\n\u001b[39;49;00m\u001b[38;5;124;43m'\u001b[39;49m\u001b[43m)\u001b[49m\n",
      "File \u001b[0;32m~/Projects/Jolin.io/workshop-accelerate-Python-with-Julia/.venv/lib/python3.10/site-packages/IPython/core/interactiveshell.py:2475\u001b[0m, in \u001b[0;36mInteractiveShell.run_cell_magic\u001b[0;34m(self, magic_name, line, cell)\u001b[0m\n\u001b[1;32m   2473\u001b[0m \u001b[39mwith\u001b[39;00m \u001b[39mself\u001b[39m\u001b[39m.\u001b[39mbuiltin_trap:\n\u001b[1;32m   2474\u001b[0m     args \u001b[39m=\u001b[39m (magic_arg_s, cell)\n\u001b[0;32m-> 2475\u001b[0m     result \u001b[39m=\u001b[39m fn(\u001b[39m*\u001b[39;49margs, \u001b[39m*\u001b[39;49m\u001b[39m*\u001b[39;49mkwargs)\n\u001b[1;32m   2477\u001b[0m \u001b[39m# The code below prevents the output from being displayed\u001b[39;00m\n\u001b[1;32m   2478\u001b[0m \u001b[39m# when using magics with decodator @output_can_be_silenced\u001b[39;00m\n\u001b[1;32m   2479\u001b[0m \u001b[39m# when the last Python token in the expression is a ';'.\u001b[39;00m\n\u001b[1;32m   2480\u001b[0m \u001b[39mif\u001b[39;00m \u001b[39mgetattr\u001b[39m(fn, magic\u001b[39m.\u001b[39mMAGIC_OUTPUT_CAN_BE_SILENCED, \u001b[39mFalse\u001b[39;00m):\n",
      "File \u001b[0;32m~/Projects/Jolin.io/workshop-accelerate-Python-with-Julia/.venv/lib/python3.10/site-packages/julia/magic.py:130\u001b[0m, in \u001b[0;36mJuliaMagics.julia\u001b[0;34m(self, line, cell)\u001b[0m\n\u001b[1;32m    126\u001b[0m     caller_frame \u001b[39m=\u001b[39m caller_frame\u001b[39m.\u001b[39mf_back\n\u001b[1;32m    128\u001b[0m return_value \u001b[39m=\u001b[39m \u001b[39m\"\u001b[39m\u001b[39mnothing\u001b[39m\u001b[39m\"\u001b[39m \u001b[39mif\u001b[39;00m src\u001b[39m.\u001b[39mstrip()\u001b[39m.\u001b[39mendswith(\u001b[39m\"\u001b[39m\u001b[39m;\u001b[39m\u001b[39m\"\u001b[39m) \u001b[39melse\u001b[39;00m \u001b[39m\"\u001b[39m\u001b[39m\"\u001b[39m\n\u001b[0;32m--> 130\u001b[0m \u001b[39mreturn\u001b[39;00m \u001b[39mself\u001b[39;49m\u001b[39m.\u001b[39;49m_julia\u001b[39m.\u001b[39;49meval(\n\u001b[1;32m    131\u001b[0m \u001b[39m    \u001b[39;49m\u001b[39m\"\"\"\u001b[39;49;00m\n\u001b[1;32m    132\u001b[0m \u001b[39m    _PyJuliaHelper.@prepare_for_pyjulia_call begin\u001b[39;49;00m\n\u001b[1;32m    133\u001b[0m \u001b[39m        begin %s end\u001b[39;49;00m\n\u001b[1;32m    134\u001b[0m \u001b[39m        %s\u001b[39;49;00m\n\u001b[1;32m    135\u001b[0m \u001b[39m    end\u001b[39;49;00m\n\u001b[1;32m    136\u001b[0m \u001b[39m    \"\"\"\u001b[39;49;00m\n\u001b[1;32m    137\u001b[0m     \u001b[39m%\u001b[39;49m (src, return_value)\n\u001b[1;32m    138\u001b[0m )(\u001b[39mself\u001b[39;49m\u001b[39m.\u001b[39;49mshell\u001b[39m.\u001b[39;49muser_ns, caller_frame\u001b[39m.\u001b[39;49mf_locals)\n",
      "\u001b[0;31mImportError\u001b[0m: <PyCall.jlwrap (in a Julia function called from Python)\nJULIA: LoadError: UndefVarError: @btime not defined\nStacktrace:\n  [1] top-level scope\n    @ :0\n  [2] eval\n    @ ./boot.jl:368 [inlined]\n  [3] eval\n    @ ./Base.jl:65 [inlined]\n  [4] (::var\"#5#6\")(globals::PyObject, locals::PyObject)\n    @ Main ~/Projects/Jolin.io/workshop-accelerate-Python-with-Julia/.venv/lib/python3.10/site-packages/julia/pyjulia_helper.jl:91\n  [5] (::PyCall.FuncWrapper{Tuple{PyObject, PyObject}, var\"#5#6\"})(::PyObject, ::Vararg{PyObject}; kws::Base.Pairs{Symbol, Union{}, Tuple{}, NamedTuple{(), Tuple{}}})\n    @ PyCall ~/.julia/packages/PyCall/twYvK/src/callback.jl:56\n  [6] (::PyCall.FuncWrapper{Tuple{PyObject, PyObject}, var\"#5#6\"})(::PyObject, ::Vararg{PyObject})\n    @ PyCall ~/.julia/packages/PyCall/twYvK/src/callback.jl:56\n  [7] invokelatest(::Any, ::Any, ::Vararg{Any}; kwargs::Base.Pairs{Symbol, Union{}, Tuple{}, NamedTuple{(), Tuple{}}})\n    @ Base ./essentials.jl:729\n  [8] invokelatest(::Any, ::Any, ::Vararg{Any})\n    @ Base ./essentials.jl:726\n  [9] _pyjlwrap_call(f::PyCall.FuncWrapper{Tuple{PyObject, PyObject}, var\"#5#6\"}, args_::Ptr{PyCall.PyObject_struct}, kw_::Ptr{PyCall.PyObject_struct})\n    @ PyCall ~/.julia/packages/PyCall/twYvK/src/callback.jl:28\n [10] pyjlwrap_call(self_::Ptr{PyCall.PyObject_struct}, args_::Ptr{PyCall.PyObject_struct}, kw_::Ptr{PyCall.PyObject_struct})\n    @ PyCall ~/.julia/packages/PyCall/twYvK/src/callback.jl:44\nin expression starting at none:4>"
     ]
    }
   ],
   "source": [
    "%%julia\n",
    "using BenchmarkTools\n",
    "@btime double.([7,8,9])"
   ]
  },
  {
   "cell_type": "code",
   "execution_count": null,
   "metadata": {},
   "outputs": [],
   "source": []
  }
 ],
 "metadata": {
  "kernelspec": {
   "display_name": "Python 3.10.9 ('.venv': venv)",
   "language": "python",
   "name": "python3"
  },
  "language_info": {
   "codemirror_mode": {
    "name": "ipython",
    "version": 3
   },
   "file_extension": ".py",
   "mimetype": "text/x-python",
   "name": "python",
   "nbconvert_exporter": "python",
   "pygments_lexer": "ipython3",
   "version": "3.10.9"
  },
  "orig_nbformat": 4,
  "vscode": {
   "interpreter": {
    "hash": "543b09ee78a375d6a601bebe4e67ef1844e93448f09439d9c76edcacec30d7c5"
   }
  }
 },
 "nbformat": 4,
 "nbformat_minor": 2
}
