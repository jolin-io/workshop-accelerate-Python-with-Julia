{
 "cells": [
  {
   "cell_type": "markdown",
   "metadata": {},
   "source": [
    "https://medium.com/agents-and-robots/the-bitter-truth-python-3-11-vs-cython-vs-c-performance-for-simulations-babc85cdfef5"
   ]
  },
  {
   "cell_type": "code",
   "execution_count": 1,
   "metadata": {},
   "outputs": [
    {
     "name": "stderr",
     "output_type": "stream",
     "text": [
      "  Activating project at `~/Projects/Jolin.io/workshop-accelerate-Python-with-Julia`\n"
     ]
    },
    {
     "data": {
      "text/plain": [
       "set_var (generic function with 1 method)"
      ]
     },
     "execution_count": 1,
     "metadata": {},
     "output_type": "execute_result"
    }
   ],
   "source": [
    "from juliacall import Main as jl\n",
    "%load_ext juliacall.ipython\n",
    "# JuliaCall comes with its own Julia dependency file juliapkg.json\n",
    "# however for binder it is much simpler to just reuse binder's installation mechanism\n",
    "%julia Pkg.activate(Base.current_project())\n",
    "%julia using PythonCall\n",
    "%julia set_var(k, v) = @eval $(Symbol(k)) = $v"
   ]
  },
  {
   "cell_type": "code",
   "execution_count": 2,
   "metadata": {},
   "outputs": [
    {
     "data": {
      "text/plain": [
       "10000"
      ]
     },
     "execution_count": 2,
     "metadata": {},
     "output_type": "execute_result"
    }
   ],
   "source": [
    "import math\n",
    "import random\n",
    "\n",
    "from datetime import datetime\n",
    "random.seed(datetime.now().timestamp())\n",
    "\n",
    "WORLD_WIDTH = 2560\n",
    "WORLD_HEIGHT = 1440\n",
    "TIMESTEPS = 10000\n",
    "\n",
    "jl.set_var(\"WORLD_WIDTH\", WORLD_WIDTH)\n",
    "jl.set_var(\"WORLD_HEIGHT\", WORLD_HEIGHT)\n",
    "jl.set_var(\"TIMESTEPS\", TIMESTEPS)"
   ]
  },
  {
   "cell_type": "code",
   "execution_count": 3,
   "metadata": {},
   "outputs": [],
   "source": [
    "class PythonAgent():\n",
    "    def __init__(self, x=None, y=None, world_width=0, world_height=0):\n",
    "        super().__init__()\n",
    "\n",
    "        # default values\n",
    "        self.vmax = 2.0\n",
    "\n",
    "        # initial position\n",
    "        self.world_width = world_width\n",
    "        self.world_height = world_height\n",
    "        self.x = x if x else random.randint(0, self.world_width)\n",
    "        self.y = y if y else random.randint(0, self.world_height)\n",
    "\n",
    "        # initial velocity\n",
    "        self.dx = 0\n",
    "        self.dy = 0\n",
    "\n",
    "        # inital values\n",
    "        self.is_alive = True\n",
    "        self.target = None\n",
    "        self.age = 0\n",
    "        self.energy = 0\n",
    "\n",
    "    def update(self, food=()):\n",
    "        self.age = self.age + 1\n",
    "\n",
    "        # we can't move\n",
    "        if self.vmax == 0:\n",
    "            return\n",
    "\n",
    "        # target is dead, don't chase it further\n",
    "        if self.target and not self.target.is_alive:\n",
    "            self.target = None\n",
    "\n",
    "        # eat the target if close enough\n",
    "        if self.target:\n",
    "            squared_dist = (self.x - self.target.x) ** 2 + (self.y - self.target.y) ** 2\n",
    "            if squared_dist < 400:\n",
    "                self.target.is_alive = False\n",
    "                self.energy = self.energy + 1\n",
    "\n",
    "        # agent doesn't have a target, find a new one\n",
    "        if not self.target:\n",
    "            min_dist = 9999999\n",
    "            min_agent = None\n",
    "            for a in food:\n",
    "                if a is not self and a.is_alive:\n",
    "                    sq_dist = (self.x - a.x) ** 2 + (self.y - a.y) ** 2\n",
    "                    if sq_dist < min_dist:\n",
    "                        min_dist = sq_dist\n",
    "                        min_agent = a\n",
    "            if min_dist < 100000:\n",
    "                self.target = min_agent\n",
    "\n",
    "        # initalize 'forces' to zero\n",
    "        fx = 0\n",
    "        fy = 0\n",
    "\n",
    "        # move in the direction of the target, if any\n",
    "        if self.target:\n",
    "            fx += 0.1*(self.target.x - self.x)\n",
    "            fy += 0.1*(self.target.y - self.y)\n",
    "\n",
    "        # update our direction based on the 'force'\n",
    "        self.dx = self.dx + 0.05 * fx\n",
    "        self.dy = self.dy + 0.05 * fy\n",
    "\n",
    "        # slow down agent if it moves faster than it max velocity\n",
    "        velocity = math.sqrt(self.dx ** 2 + self.dy ** 2)\n",
    "        if velocity > self.vmax:\n",
    "            self.dx = (self.dx / velocity) * (self.vmax)\n",
    "            self.dy = (self.dy / velocity) * (self.vmax)\n",
    "\n",
    "        # update position based on delta x/y\n",
    "        self.x = self.x + self.dx\n",
    "        self.y = self.y + self.dy\n",
    "\n",
    "        # ensure it stays within the world boundaries\n",
    "        self.x = max(self.x, 0)\n",
    "        self.x = min(self.x, self.world_width)\n",
    "        self.y = max(self.y, 0)\n",
    "        self.y = min(self.y, self.world_height)"
   ]
  },
  {
   "cell_type": "code",
   "execution_count": 4,
   "metadata": {},
   "outputs": [],
   "source": [
    "from agent import Agent as CythonAgent"
   ]
  },
  {
   "cell_type": "code",
   "execution_count": 5,
   "metadata": {},
   "outputs": [],
   "source": [
    "import agent"
   ]
  },
  {
   "cell_type": "code",
   "execution_count": 6,
   "metadata": {},
   "outputs": [
    {
     "ename": "AttributeError",
     "evalue": "'agent.Prey' object has no attribute 'is_alive'",
     "output_type": "error",
     "traceback": [
      "\u001b[0;31m---------------------------------------------------------------------------\u001b[0m",
      "\u001b[0;31mAttributeError\u001b[0m                            Traceback (most recent call last)",
      "Cell \u001b[0;32mIn[6], line 1\u001b[0m\n\u001b[0;32m----> 1\u001b[0m \u001b[43magent\u001b[49m\u001b[38;5;241;43m.\u001b[39;49m\u001b[43mmain\u001b[49m\u001b[43m(\u001b[49m\u001b[43mWORLD_WIDTH\u001b[49m\u001b[38;5;241;43m=\u001b[39;49m\u001b[43mWORLD_WIDTH\u001b[49m\u001b[43m,\u001b[49m\u001b[43m \u001b[49m\u001b[43mWORLD_HEIGHT\u001b[49m\u001b[38;5;241;43m=\u001b[39;49m\u001b[43mWORLD_HEIGHT\u001b[49m\u001b[43m,\u001b[49m\u001b[43m \u001b[49m\u001b[43mTIMESTEPS\u001b[49m\u001b[38;5;241;43m=\u001b[39;49m\u001b[43mTIMESTEPS\u001b[49m\u001b[43m)\u001b[49m\n",
      "File \u001b[0;32m~/Projects/Jolin.io/workshop-accelerate-Python-with-Julia/agent.pyx:125\u001b[0m, in \u001b[0;36magent.main\u001b[0;34m()\u001b[0m\n\u001b[1;32m    123\u001b[0m \n\u001b[1;32m    124\u001b[0m \n\u001b[0;32m--> 125\u001b[0m cpdef void main(WORLD_WIDTH, WORLD_HEIGHT, TIMESTEPS) except *:\n\u001b[1;32m    126\u001b[0m     cdef int timestep\n\u001b[1;32m    127\u001b[0m     cdef list preys\n",
      "File \u001b[0;32m~/Projects/Jolin.io/workshop-accelerate-Python-with-Julia/agent.pyx:141\u001b[0m, in \u001b[0;36magent.main\u001b[0;34m()\u001b[0m\n\u001b[1;32m    139\u001b[0m     world_height=WORLD_HEIGHT,\n\u001b[1;32m    140\u001b[0m )\n\u001b[0;32m--> 141\u001b[0m preys = [Prey(**kwargs) for i in range(10)]\n\u001b[1;32m    142\u001b[0m predators = [Predator(**kwargs) for i in range(10)]\n\u001b[1;32m    143\u001b[0m plants = [Plant(**kwargs) for i in range(100)]\n",
      "File \u001b[0;32m~/Projects/Jolin.io/workshop-accelerate-Python-with-Julia/agent.pyx:116\u001b[0m, in \u001b[0;36magent.Prey.__init__\u001b[0;34m()\u001b[0m\n\u001b[1;32m    114\u001b[0m cdef class Prey(Agent):\n\u001b[1;32m    115\u001b[0m     def __init__(self, **kwargs):\n\u001b[0;32m--> 116\u001b[0m         super().__init__(**kwargs)\n\u001b[1;32m    117\u001b[0m         self.vmax = 2.0\n\u001b[1;32m    118\u001b[0m \n",
      "File \u001b[0;32m~/Projects/Jolin.io/workshop-accelerate-Python-with-Julia/agent.pyx:36\u001b[0m, in \u001b[0;36magent.Agent.__init__\u001b[0;34m()\u001b[0m\n\u001b[1;32m     34\u001b[0m \n\u001b[1;32m     35\u001b[0m         # inital values\n\u001b[0;32m---> 36\u001b[0m         self.is_alive = True\n\u001b[1;32m     37\u001b[0m         self.target = None\n\u001b[1;32m     38\u001b[0m         self.age = 0\n",
      "\u001b[0;31mAttributeError\u001b[0m: 'agent.Prey' object has no attribute 'is_alive'"
     ]
    }
   ],
   "source": [
    "agent.main(WORLD_WIDTH=WORLD_WIDTH, WORLD_HEIGHT=WORLD_HEIGHT, TIMESTEPS=TIMESTEPS)"
   ]
  },
  {
   "cell_type": "code",
   "execution_count": 132,
   "metadata": {},
   "outputs": [],
   "source": [
    "def main(Agent):\n",
    "\n",
    "    class Predator(Agent):\n",
    "        def __init__(self, **kwargs):\n",
    "            super().__init__(**kwargs)\n",
    "            self.vmax = 2.5\n",
    "\n",
    "    class Prey(Agent):\n",
    "        def __init__(self, **kwargs):\n",
    "            super().__init__(**kwargs)\n",
    "            self.vmax = 2.0\n",
    "\n",
    "    class Plant(Agent):\n",
    "        def __init__(self, **kwargs):\n",
    "            super().__init__(**kwargs)\n",
    "            self.vmax = 0.0\n",
    "\n",
    "            \n",
    "    # open the ouput file\n",
    "    # f = open('output.csv', 'w')\n",
    "    # print(0, ',', 'Title', ',', 'Predator Prey Relationship / Example 02 / Cython', file=f)\n",
    "\n",
    "    # create initial agents\n",
    "    kwargs = dict(\n",
    "        world_width=WORLD_WIDTH,\n",
    "        world_height=WORLD_HEIGHT,\n",
    "    )\n",
    "    preys = [Prey(**kwargs) for i in range(10)]\n",
    "    predators = [Predator(**kwargs) for i in range(10)]\n",
    "    plants = [Plant(**kwargs) for i in range(100)]\n",
    "\n",
    "    timestep = 0\n",
    "    while timestep < TIMESTEPS:\n",
    "        # update all agents\n",
    "        #[f.update([]) for f in plants]  # no need to update the plants; they do not move\n",
    "        [a.update(plants) for a in preys]\n",
    "        [a.update(preys) for a in predators]\n",
    "\n",
    "        # handle eaten and create new plant\n",
    "        plants = [p for p in plants if p.is_alive is True]\n",
    "        plants = plants + [Plant(**kwargs) for i in range(2)]\n",
    "\n",
    "        # handle eaten and create new preys\n",
    "        preys = [p for p in preys if p.is_alive is True]\n",
    "\n",
    "        for p in preys[:]:\n",
    "            if p.energy > 5:\n",
    "                p.energy = 0\n",
    "                preys.append(Prey(x = p.x + random.randint(-20, 20), y = p.y + random.randint(-20, 20), **kwargs))\n",
    "\n",
    "        # handle old and create new predators\n",
    "        predators = [p for p in predators if p.age < 2000]\n",
    "\n",
    "        for p in predators[:]:\n",
    "            if p.energy > 10:\n",
    "                p.energy = 0\n",
    "                predators.append(Predator(x = p.x + random.randint(-20, 20), y = p.y + random.randint(-20, 20), **kwargs))\n",
    "\n",
    "        # write data to output file\n",
    "        #[print(timestep, ',', 'Position', ',', 'Predator', ',', a.x, ',', a.y, file=f) for a in predators]\n",
    "        #[print(timestep, ',', 'Position',  ',', 'Prey', ',', a.x, ',', a.y, file=f) for a in preys]\n",
    "        #[print(timestep, ',', 'Position',  ',', 'Plant', ',', a.x, ',', a.y, file=f) for a in plants]\n",
    "\n",
    "        timestep = timestep + 1\n",
    "\n",
    "    print(len(predators), len(preys), len(plants))"
   ]
  },
  {
   "cell_type": "code",
   "execution_count": 133,
   "metadata": {},
   "outputs": [
    {
     "name": "stdout",
     "output_type": "stream",
     "text": [
      "0 0 20036\n",
      "24 1040 338\n",
      "0 2393 343\n",
      "0 1 20044\n",
      "The slowest run took 16.77 times longer than the fastest. This could mean that an intermediate result is being cached.\n",
      "1min 10s ± 49.2 s per loop (mean ± std. dev. of 3 runs, 1 loop each)\n"
     ]
    }
   ],
   "source": [
    "%timeit -r 3 main(PythonAgent)"
   ]
  },
  {
   "cell_type": "code",
   "execution_count": 14,
   "metadata": {},
   "outputs": [
    {
     "name": "stdout",
     "output_type": "stream",
     "text": [
      "10 2 2043\n",
      "10 60 1583\n",
      "10 16 1895\n",
      "10 44 1611\n",
      "10 31 1730\n",
      "10 2 2049\n",
      "10 2 2003\n",
      "10 9 1899\n",
      "10 2 2018\n",
      "10 26 1769\n",
      "10 0 1950\n",
      "10 16 1879\n",
      "10 40 1741\n",
      "10 35 1779\n",
      "10 28 1766\n",
      "10 26 1806\n",
      "10 4 2029\n",
      "10 31 1740\n",
      "10 32 1680\n",
      "10 1 1999\n",
      "10 20 1775\n",
      "10 20 1893\n",
      "10 21 1803\n",
      "11 11 1851\n",
      "10 31 1800\n",
      "10 0 2031\n",
      "10 11 1936\n",
      "10 21 1847\n",
      "10 9 1878\n",
      "10 36 1616\n",
      "10 10 1909\n",
      "10 2 2019\n",
      "10 23 1913\n",
      "10 8 1919\n",
      "10 12 1778\n",
      "10 16 1917\n",
      "10 4 1943\n",
      "11 11 1902\n",
      "10 16 1909\n",
      "10 21 1845\n",
      "10 30 1666\n",
      "10 0 2056\n",
      "10 29 1779\n",
      "10 71 1456\n",
      "10 20 1890\n",
      "10 48 1571\n",
      "10 0 1979\n",
      "10 12 1956\n",
      "10 30 1734\n",
      "10 24 1871\n",
      "10 44 1640\n",
      "10 27 1821\n",
      "10 1 1977\n",
      "11 13 1872\n",
      "10 0 1999\n",
      "10 19 1857\n",
      "10 44 1701\n",
      "10 2 2027\n",
      "10 26 1857\n",
      "10 57 1552\n",
      "10 7 1974\n",
      "10 47 1645\n",
      "10 29 1806\n",
      "10 24 1827\n",
      "10 47 1688\n",
      "10 18 1819\n",
      "10 12 1987\n",
      "10 38 1753\n",
      "10 34 1707\n",
      "10 23 1888\n",
      "10 53 1657\n",
      "10 1 2004\n",
      "10 18 1750\n",
      "10 27 1700\n",
      "10 8 1924\n",
      "10 11 1874\n",
      "10 21 1842\n",
      "10 12 1987\n",
      "10 16 1878\n",
      "10 3 2003\n",
      "10 5 1979\n",
      "116 ms ± 7.2 ms per loop (mean ± std. dev. of 7 runs, 10 loops each)\n"
     ]
    }
   ],
   "source": [
    "%timeit main(CythonAgent)"
   ]
  },
  {
   "cell_type": "markdown",
   "metadata": {},
   "source": [
    "# C++"
   ]
  },
  {
   "cell_type": "code",
   "execution_count": null,
   "metadata": {},
   "outputs": [],
   "source": [
    "!g++ example.cpp -o example -std=c++11 -O3"
   ]
  },
  {
   "cell_type": "code",
   "execution_count": 20,
   "metadata": {},
   "outputs": [
    {
     "name": "stdout",
     "output_type": "stream",
     "text": [
      "ok 0, 1304, 93\n",
      "ok 0, 1304, 93\n",
      "ok 0, 1306, 82\n",
      "ok 0, 1306, 82\n",
      "ok 0, 1306, 82\n",
      "ok 0, 1302, 80\n",
      "ok 0, 1302, 80\n",
      "ok 0, 1300, 90\n",
      "ok 0, 1300, 90\n",
      "ok 26, 266, 562\n",
      "ok 26, 266, 562\n",
      "ok 26, 266, 562\n",
      "ok 0, 1306, 86\n",
      "ok 0, 1306, 86\n",
      "ok 0, 0, 20049\n",
      "ok 0, 0, 20049\n",
      "ok 0, 0, 20049\n",
      "ok 0, 0, 20049\n",
      "ok 0, 0, 20049\n",
      "ok 0, 0, 20049\n",
      "ok 0, 0, 20049\n",
      "ok 0, 1290, 73\n",
      "ok 0, 1290, 73\n",
      "ok 0, 1290, 73\n",
      "ok 0, 1291, 101\n",
      "ok 0, 1291, 101\n",
      "ok 0, 0, 19960\n",
      "ok 0, 0, 19960\n",
      "ok 0, 0, 19960\n",
      "ok 0, 0, 19960\n",
      "ok 0, 0, 19960\n",
      "ok 0, 0, 19960\n",
      "ok 0, 0, 19996\n",
      "ok 0, 0, 19996\n",
      "ok 0, 0, 19996\n",
      "ok 0, 0, 19996\n",
      "ok 0, 0, 19996\n",
      "ok 0, 0, 19996\n",
      "ok 0, 0, 19996\n",
      "ok 0, 0, 19996\n",
      "ok 0, 1301, 80\n",
      "ok 0, 1301, 80\n",
      "ok 14, 578, 228\n",
      "ok 14, 578, 228\n",
      "ok 14, 578, 228\n",
      "ok 0, 0, 19970\n",
      "ok 0, 0, 19970\n",
      "ok 0, 0, 19970\n",
      "ok 0, 0, 19970\n",
      "ok 0, 0, 19970\n",
      "ok 0, 0, 19970\n",
      "ok 0, 0, 19970\n",
      "ok 0, 0, 19970\n",
      "ok 0, 0, 19992\n",
      "ok 0, 0, 19992\n",
      "ok 0, 0, 19992\n",
      "ok 0, 0, 19992\n",
      "ok 0, 0, 19992\n",
      "ok 0, 0, 19992\n",
      "ok 0, 0, 19992\n",
      "ok 0, 0, 19992\n",
      "ok 0, 1286, 77\n",
      "ok 0, 1286, 77\n",
      "ok 0, 1289, 85\n",
      "ok 0, 1289, 85\n",
      "ok 0, 1289, 85\n",
      "ok 21, 260, 314\n",
      "ok 21, 260, 314\n",
      "ok 29, 172, 491\n",
      "ok 29, 172, 491\n",
      "ok 29, 172, 491\n",
      "ok 22, 53, 1680\n",
      "ok 22, 53, 1680\n",
      "ok 22, 53, 1680\n",
      "ok 8, 354, 514\n",
      "ok 8, 354, 514\n",
      "ok 8, 354, 514\n",
      "ok 0, 1302, 104\n",
      "ok 0, 1302, 104\n",
      "ok 0, 1302, 104\n",
      "ok 0, 1286, 81\n",
      "ok 0, 1286, 81\n",
      "ok 13, 273, 1463\n",
      "ok 13, 273, 1463\n",
      "ok 0, 1312, 91\n",
      "ok 0, 1312, 91\n",
      "ok 0, 1301, 82\n",
      "ok 0, 1301, 82\n",
      "ok 0, 0, 19970\n",
      "ok 0, 0, 19970\n",
      "ok 0, 0, 19970\n",
      "ok 0, 0, 19970\n",
      "ok 0, 0, 19970\n",
      "ok 0, 0, 19970\n",
      "ok 0, 0, 19970\n",
      "ok 19, 217, 344\n",
      "ok 19, 217, 344\n",
      "ok 19, 217, 344\n",
      "ok 0, 1312, 87\n",
      "ok 0, 1312, 87\n",
      "\n",
      " Performance counter stats for './example 10000' (100 runs):\n",
      "\n",
      "            439,15 msec task-clock:u                     #    1,540 CPUs utilized            ( +-  3,41% )\n",
      "                 0      context-switches:u               #    0,000 /sec                   \n",
      "                 0      cpu-migrations:u                 #    0,000 /sec                   \n",
      "               560      page-faults:u                    #    1,969 K/sec                    ( +-  0,33% )\n",
      "     1.237.235.838      cycles:u                         #    4,350 GHz                      ( +-  3,69% )  (38,06%)\n",
      "     3.231.512.487      instructions:u                   #    3,60  insn per cycle           ( +-  4,71% )  (45,79%)\n",
      "       464.019.809      branches:u                       #    1,632 G/sec                    ( +-  3,77% )  (53,54%)\n",
      "         3.574.820      branch-misses:u                  #    1,14% of all branches          ( +-  4,32% )  (61,27%)\n",
      "     6.134.666.455      slots:u                          #   21,570 G/sec                    ( +-  3,64% )  (69,00%)\n",
      "     2.892.596.541      topdown-retiring:u               #     39,0% Retiring                ( +-  4,64% )  (69,00%)\n",
      "     1.924.601.240      topdown-bad-spec:u               # \u001b[31m    26,7%\u001b[m Bad Speculation         ( +-  4,78% )  (69,00%)\n",
      "       121.673.094      topdown-fe-bound:u               #      1,6% Frontend Bound          ( +-  3,68% )  (69,00%)\n",
      "     1.428.946.786      topdown-be-bound:u               # \u001b[31m    32,7%\u001b[m Backend Bound           ( +-  1,93% )  (69,00%)\n",
      "     1.091.342.256      L1-dcache-loads:u                #    3,837 G/sec                    ( +-  4,45% )  (68,99%)\n",
      "       126.209.878      L1-dcache-load-misses:u          # \u001b[35m  17,19%\u001b[m of all L1-dcache accesses  ( +-  4,34% )  (69,03%)\n",
      "         4.860.594      LLC-loads:u                      #   17,090 M/sec                    ( +- 52,76% )  (69,27%)\n",
      "            70.051      LLC-load-misses:u                #    0,26% of all LL-cache accesses  ( +-  7,19% )  (69,52%)\n",
      "   <not supported>      L1-icache-loads:u                                           \n",
      "            36.082      L1-icache-load-misses:u                                              ( +-  6,61% )  (31,01%)\n",
      "     1.096.945.671      dTLB-loads:u                     #    3,857 G/sec                    ( +-  4,45% )  (30,97%)\n",
      "               572      dTLB-load-misses:u               #    0,00% of all dTLB cache accesses  ( +-  9,95% )  (30,73%)\n",
      "   <not supported>      iTLB-loads:u                                                \n",
      "           180.043      iTLB-load-misses:u                                                   ( +-  3,49% )  (30,48%)\n",
      "   <not supported>      L1-dcache-prefetches:u                                      \n",
      "   <not supported>      L1-dcache-prefetch-misses:u                                   \n",
      "\n",
      "            0,2851 +- 0,0150 seconds time elapsed  ( +-  5,26% )\n",
      "\n"
     ]
    }
   ],
   "source": [
    "!perf stat -r 100 -ddd ./example $TIMESTEPS"
   ]
  },
  {
   "cell_type": "code",
   "execution_count": 119,
   "metadata": {},
   "outputs": [
    {
     "data": {
      "text/plain": [
       "Plant (generic function with 1 method)"
      ]
     },
     "execution_count": 119,
     "metadata": {},
     "output_type": "execute_result"
    }
   ],
   "source": [
    "%%julia\n",
    "Base.@kwdef mutable struct Agent\n",
    "    vmax::Float64 = 2.5\n",
    "    world_width::Int = 10\n",
    "    world_height::Int = 10\n",
    "    x::Int = rand(0:world_width)\n",
    "    y::Int = rand(0:world_height)\n",
    "    \n",
    "    # initial velocity\n",
    "    dx::Float64 = 0.0\n",
    "    dy::Float64 = 0.0\n",
    "\n",
    "    # inital values\n",
    "    is_alive::Bool = true\n",
    "    target::Union{Nothing, Agent} = nothing\n",
    "    age::Int = 0\n",
    "    energy::Int = 0\n",
    "end\n",
    "\n",
    "Predator(; kwargs...) = Agent(; vmax = 2.5, kwargs...)\n",
    "Prey(; kwargs...) = Agent(; vmax = 2.0, kwargs...)\n",
    "Plant(; kwargs...) = Agent(; vmax = 0.0, kwargs...)"
   ]
  },
  {
   "cell_type": "code",
   "execution_count": 120,
   "metadata": {},
   "outputs": [
    {
     "data": {
      "text/plain": [
       "update! (generic function with 3 methods)"
      ]
     },
     "execution_count": 120,
     "metadata": {},
     "output_type": "execute_result"
    }
   ],
   "source": [
    "%%julia\n",
    "function update!(self::Agent, food::Vector{Agent})\n",
    "    self.age = self.age + 1\n",
    "\n",
    "    # we can't move\n",
    "    if self.vmax == 0.0\n",
    "        return\n",
    "    end\n",
    "\n",
    "    # target is dead, don't chase it further\n",
    "    if self.target !== nothing && !self.target.is_alive\n",
    "        self.target = nothing\n",
    "    end\n",
    "    \n",
    "    # eat the target if close enough\n",
    "    if self.target !== nothing\n",
    "        squared_dist = (self.x - self.target.x) ^ 2 + (self.y - self.target.y) ^ 2\n",
    "        if squared_dist < 400\n",
    "            self.target.is_alive = false\n",
    "            self.energy = self.energy + 1\n",
    "        end\n",
    "    # agent doesn't have a target, find a new one\n",
    "    else\n",
    "        min_dist = 9999999\n",
    "        min_agent = nothing\n",
    "        for a in food\n",
    "            if a !== self && a.is_alive\n",
    "                sq_dist = (self.x - a.x) ^ 2 + (self.y - a.y) ^ 2\n",
    "                if sq_dist < min_dist\n",
    "                    min_dist = sq_dist\n",
    "                    min_agent = a\n",
    "                end\n",
    "            end\n",
    "        end\n",
    "        if min_dist < 100000\n",
    "            self.target = min_agent\n",
    "        end\n",
    "    end\n",
    "\n",
    "    # initalize 'forces' to zero\n",
    "    fx = 0.0\n",
    "    fy = 0.0\n",
    "\n",
    "    # move in the direction of the target, if any\n",
    "    if self.target !== nothing\n",
    "        fx += 0.1 * (self.target.x - self.x)\n",
    "        fy += 0.1 * (self.target.y - self.y)\n",
    "    end\n",
    "\n",
    "    # update our direction based on the 'force'\n",
    "    self.dx = self.dx + 0.05 * fx\n",
    "    self.dy = self.dy + 0.05 * fy\n",
    "\n",
    "    # slow down agent if it moves faster than it max velocity\n",
    "    velocity = sqrt(self.dx ^ 2 + self.dy ^ 2)\n",
    "    if velocity > self.vmax\n",
    "        self.dx = (self.dx / velocity) * (self.vmax)\n",
    "        self.dy = (self.dy / velocity) * (self.vmax)\n",
    "    end\n",
    "\n",
    "    # update position based on delta x/y\n",
    "    self.x = self.x + Int(round(self.dx))\n",
    "    self.y = self.y + Int(round(self.dy))\n",
    "\n",
    "    # ensure it stays within the world boundaries\n",
    "    self.x = max(self.x, 0)\n",
    "    self.x = min(self.x, self.world_width)\n",
    "    self.y = max(self.y, 0)\n",
    "    self.y = min(self.y, self.world_height)\n",
    "end"
   ]
  },
  {
   "cell_type": "code",
   "execution_count": 121,
   "metadata": {},
   "outputs": [
    {
     "data": {
      "text/plain": [
       "main (generic function with 1 method)"
      ]
     },
     "execution_count": 121,
     "metadata": {},
     "output_type": "execute_result"
    }
   ],
   "source": [
    "%%julia\n",
    "function main()\n",
    "    kwargs = (\n",
    "        world_width = WORLD_WIDTH,\n",
    "        world_height = WORLD_HEIGHT,\n",
    "    )\n",
    "    preys = [Prey(; kwargs...) for i in 1:10]\n",
    "    predators = [Predator(; kwargs...) for i in 1:10]\n",
    "    plants = [Plant(; kwargs...) for i in 1:100]\n",
    "\n",
    "    timestep = 0\n",
    "    while timestep < TIMESTEPS\n",
    "        # update all agents\n",
    "        #[f.update([]) for f in plants]  # no need to update the plants; they do not move\n",
    "        for a in preys\n",
    "            update!(a, plants)\n",
    "        end\n",
    "        for a in predators\n",
    "            update!(a, preys)\n",
    "        end\n",
    "\n",
    "        # handle eaten and create new plant\n",
    "        # plants = [p for p in plants if p.is_alive]\n",
    "        filter!(p -> p.is_alive, plants)\n",
    "        append!(plants, [Plant(; kwargs...) for i in 1:2])\n",
    "\n",
    "        # handle eaten and create new preys\n",
    "        # preys = [p for p in preys if p.is_alive]\n",
    "        filter!(p -> p.is_alive, preys)\n",
    "        for p in preys\n",
    "            if p.energy > 5\n",
    "                p.energy = 0\n",
    "                push!(preys, Prey(; x = p.x + rand(-20:20), y = p.y + rand(-20:20), kwargs...))\n",
    "            end\n",
    "        end\n",
    "\n",
    "        # handle old and create new predators\n",
    "        # predators = [p for p in predators if p.age < 2000]\n",
    "        filter!(p -> p.age < 2000, predators)\n",
    "        for p in predators\n",
    "            if p.energy > 10\n",
    "                p.energy = 0\n",
    "                push!(predators, Predator(; x = p.x + rand(-20:20), y = p.y + rand(-20:20), kwargs...))\n",
    "            end\n",
    "        end\n",
    "\n",
    "        # write data to output file\n",
    "        #[print(timestep, ',', 'Position', ',', 'Predator', ',', a.x, ',', a.y, file=f) for a in predators]\n",
    "        #[print(timestep, ',', 'Position',  ',', 'Prey', ',', a.x, ',', a.y, file=f) for a in preys]\n",
    "        #[print(timestep, ',', 'Position',  ',', 'Plant', ',', a.x, ',', a.y, file=f) for a in plants]\n",
    "\n",
    "        timestep += 1\n",
    "    end\n",
    "    println(\"$(length(predators)), $(length(preys)), $(length(plants))\")\n",
    "end"
   ]
  },
  {
   "cell_type": "code",
   "execution_count": 122,
   "metadata": {},
   "outputs": [
    {
     "name": "stdout",
     "output_type": "stream",
     "text": [
      "33, 477, 341\n",
      "5, 1487, 244\n",
      "10, 1249, 322\n",
      "0, 2378, 242\n",
      "28, 658, 285\n",
      "18, 1827, 309\n",
      "23, 1297, 261\n",
      "34, 817, 308\n",
      "31, 433, 293\n",
      "41, 553, 344\n",
      "16, 1357, 276\n",
      "14, 1041, 230\n",
      "29, 1351, 238\n",
      "  834.828 ms (524020 allocations: 132.59 MiB)\n"
     ]
    }
   ],
   "source": [
    "%julia using BenchmarkTools\n",
    "%julia @btime main()"
   ]
  },
  {
   "cell_type": "code",
   "execution_count": 123,
   "metadata": {},
   "outputs": [
    {
     "name": "stdout",
     "output_type": "stream",
     "text": [
      "0, 2419, 262\n",
      "13, 1183, 222\n",
      "6, 1759, 291\n",
      "19, 1540, 370\n",
      "22, 931, 317\n",
      "17, 991, 296\n",
      "26, 1185, 249\n",
      "23, 844, 290\n",
      "14, 1120, 247\n",
      "0, 2406, 288\n",
      "38, 514, 314\n",
      "20, 1052, 325\n"
     ]
    },
    {
     "data": {
      "text/plain": [
       "BenchmarkTools.Trial: 4 samples with 1 evaluation.\n",
       " Range (min … max):  986.515 ms …    2.543 s  ┊ GC (min … max): 2.20% … 0.61%\n",
       " Time  (median):        1.397 s               ┊ GC (median):    1.33%\n",
       " Time  (mean ± σ):      1.581 s ± 671.625 ms  ┊ GC (mean ± σ):  3.34% ± 5.29%\n",
       "\n",
       "  █            █    █                                         █  \n",
       "  █▁▁▁▁▁▁▁▁▁▁▁▁█▁▁▁▁█▁▁▁▁▁▁▁▁▁▁▁▁▁▁▁▁▁▁▁▁▁▁▁▁▁▁▁▁▁▁▁▁▁▁▁▁▁▁▁▁▁█ ▁\n",
       "  987 ms           Histogram: frequency by time          2.54 s <\n",
       "\n",
       " Memory estimate: 144.49 MiB, allocs estimate: 1954947."
      ]
     },
     "execution_count": 123,
     "metadata": {},
     "output_type": "execute_result"
    }
   ],
   "source": [
    "%julia @benchmark main()"
   ]
  },
  {
   "cell_type": "code",
   "execution_count": 124,
   "metadata": {},
   "outputs": [
    {
     "data": {
      "text/plain": [
       "10000"
      ]
     },
     "execution_count": 124,
     "metadata": {},
     "output_type": "execute_result"
    }
   ],
   "source": [
    "%julia TIMESTEPS"
   ]
  },
  {
   "cell_type": "code",
   "execution_count": null,
   "metadata": {},
   "outputs": [],
   "source": []
  }
 ],
 "metadata": {
  "kernelspec": {
   "display_name": "workshop-accelerate-Python-with-Julia",
   "language": "python",
   "name": "workshop-accelerate-python-with-julia"
  },
  "language_info": {
   "codemirror_mode": {
    "name": "ipython",
    "version": 3
   },
   "file_extension": ".py",
   "mimetype": "text/x-python",
   "name": "python",
   "nbconvert_exporter": "python",
   "pygments_lexer": "ipython3",
   "version": "3.10.9"
  },
  "vscode": {
   "interpreter": {
    "hash": "520e995520d0f28b9f1e7cacfd9ba1493aa60b57e5f0cc1543205df7dd9220a2"
   }
  }
 },
 "nbformat": 4,
 "nbformat_minor": 4
}
