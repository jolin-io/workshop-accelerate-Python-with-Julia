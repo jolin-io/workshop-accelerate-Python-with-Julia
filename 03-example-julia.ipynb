{
 "cells": [
  {
   "cell_type": "code",
   "execution_count": 1,
   "id": "7169bbd8-aa4f-4af7-82bc-3f6d4a8a9c82",
   "metadata": {},
   "outputs": [
    {
     "data": {
      "text/plain": [
       "10000"
      ]
     },
     "execution_count": 1,
     "metadata": {},
     "output_type": "execute_result"
    }
   ],
   "source": [
    "const WORLD_WIDTH = 2560\n",
    "const WORLD_HEIGHT = 1440\n",
    "const TIMESTEPS = 10000"
   ]
  },
  {
   "cell_type": "code",
   "execution_count": 2,
   "id": "75222dbf-29e0-47aa-a55c-c0424f85f252",
   "metadata": {},
   "outputs": [
    {
     "data": {
      "text/plain": [
       "Plant (generic function with 1 method)"
      ]
     },
     "execution_count": 2,
     "metadata": {},
     "output_type": "execute_result"
    }
   ],
   "source": [
    "Base.@kwdef mutable struct Agent\n",
    "    vmax::Float64 = 2.5\n",
    "    world_width::Int = 10\n",
    "    world_height::Int = 10\n",
    "    x::Int = rand(0:world_width)\n",
    "    y::Int = rand(0:world_height)\n",
    "    \n",
    "    # initial velocity\n",
    "    dx::Float64 = 0.0\n",
    "    dy::Float64 = 0.0\n",
    "\n",
    "    # inital values\n",
    "    is_alive::Bool = true\n",
    "    target::Union{Nothing, Agent} = nothing\n",
    "    age::Int = 0\n",
    "    energy::Int = 0\n",
    "end\n",
    "\n",
    "Predator(; kwargs...) = Agent(; vmax = 2.5, kwargs...)\n",
    "Prey(; kwargs...) = Agent(; vmax = 2.0, kwargs...)\n",
    "Plant(; kwargs...) = Agent(; vmax = 0.0, kwargs...)"
   ]
  },
  {
   "cell_type": "code",
   "execution_count": 3,
   "id": "5cabbe0f-d090-4c21-87cc-4f4848c219a4",
   "metadata": {},
   "outputs": [
    {
     "data": {
      "text/plain": [
       "update! (generic function with 1 method)"
      ]
     },
     "execution_count": 3,
     "metadata": {},
     "output_type": "execute_result"
    }
   ],
   "source": [
    "function update!(self::Agent, food::Vector{Agent})\n",
    "    self.age = self.age + 1\n",
    "\n",
    "    # we can't move\n",
    "    if self.vmax == 0.0\n",
    "        return\n",
    "    end\n",
    "\n",
    "    # target is dead, don't chase it further\n",
    "    if self.target !== nothing && !self.target.is_alive\n",
    "        self.target = nothing\n",
    "    end\n",
    "    \n",
    "    # eat the target if close enough\n",
    "    if self.target !== nothing\n",
    "        squared_dist = (self.x - self.target.x) ^ 2 + (self.y - self.target.y) ^ 2\n",
    "        if squared_dist < 400\n",
    "            self.target.is_alive = false\n",
    "            self.energy = self.energy + 1\n",
    "        end\n",
    "    # agent doesn't have a target, find a new one\n",
    "    else\n",
    "        min_dist = 9999999\n",
    "        min_agent = nothing\n",
    "        for a in food\n",
    "            if a !== self && a.is_alive\n",
    "                sq_dist = (self.x - a.x) ^ 2 + (self.y - a.y) ^ 2\n",
    "                if sq_dist < min_dist\n",
    "                    min_dist = sq_dist\n",
    "                    min_agent = a\n",
    "                end\n",
    "            end\n",
    "        end\n",
    "        if min_dist < 100000\n",
    "            self.target = min_agent\n",
    "        end\n",
    "    end\n",
    "\n",
    "    # initalize 'forces' to zero\n",
    "    fx = 0.0\n",
    "    fy = 0.0\n",
    "\n",
    "    # move in the direction of the target, if any\n",
    "    if self.target !== nothing\n",
    "        fx += 0.1 * (self.target.x - self.x)\n",
    "        fy += 0.1 * (self.target.y - self.y)\n",
    "    end\n",
    "\n",
    "    # update our direction based on the 'force'\n",
    "    self.dx = self.dx + 0.05 * fx\n",
    "    self.dy = self.dy + 0.05 * fy\n",
    "\n",
    "    # slow down agent if it moves faster than it max velocity\n",
    "    velocity = sqrt(self.dx ^ 2 + self.dy ^ 2)\n",
    "    if velocity > self.vmax\n",
    "        self.dx = (self.dx / velocity) * (self.vmax)\n",
    "        self.dy = (self.dy / velocity) * (self.vmax)\n",
    "    end\n",
    "\n",
    "    # update position based on delta x/y\n",
    "    self.x = self.x + Int(round(self.dx))\n",
    "    self.y = self.y + Int(round(self.dy))\n",
    "\n",
    "    # ensure it stays within the world boundaries\n",
    "    self.x = max(self.x, 0)\n",
    "    self.x = min(self.x, self.world_width)\n",
    "    self.y = max(self.y, 0)\n",
    "    self.y = min(self.y, self.world_height)\n",
    "end"
   ]
  },
  {
   "cell_type": "code",
   "execution_count": 7,
   "id": "9734333a-a2c9-4ba2-8c03-3a589b923430",
   "metadata": {},
   "outputs": [
    {
     "data": {
      "text/plain": [
       "main (generic function with 1 method)"
      ]
     },
     "execution_count": 7,
     "metadata": {},
     "output_type": "execute_result"
    }
   ],
   "source": [
    "function main(; show=true)\n",
    "    kwargs = (\n",
    "        world_width = WORLD_WIDTH,\n",
    "        world_height = WORLD_HEIGHT,\n",
    "    )\n",
    "    preys = [Prey(; kwargs...) for i in 1:10]\n",
    "    predators = [Predator(; kwargs...) for i in 1:10]\n",
    "    plants = [Plant(; kwargs...) for i in 1:100]\n",
    "\n",
    "    timestep = 0\n",
    "    while timestep < TIMESTEPS\n",
    "        # update all agents\n",
    "        #[f.update([]) for f in plants]  # no need to update the plants; they do not move\n",
    "        for a in preys\n",
    "            update!(a, plants)\n",
    "        end\n",
    "        for a in predators\n",
    "            update!(a, preys)\n",
    "        end\n",
    "\n",
    "        # handle eaten and create new plant\n",
    "        # plants = [p for p in plants if p.is_alive]\n",
    "        filter!(p -> p.is_alive, plants)\n",
    "        append!(plants, [Plant(; kwargs...) for i in 1:2])\n",
    "\n",
    "        # handle eaten and create new preys\n",
    "        # preys = [p for p in preys if p.is_alive]\n",
    "        filter!(p -> p.is_alive, preys)\n",
    "        for p in preys\n",
    "            if p.energy > 5\n",
    "                p.energy = 0\n",
    "                push!(preys, Prey(; x = p.x + rand(-20:20), y = p.y + rand(-20:20), kwargs...))\n",
    "            end\n",
    "        end\n",
    "\n",
    "        # handle old and create new predators\n",
    "        # predators = [p for p in predators if p.age < 2000]\n",
    "        filter!(p -> p.age < 2000, predators)\n",
    "        for p in predators\n",
    "            if p.energy > 10\n",
    "                p.energy = 0\n",
    "                push!(predators, Predator(; x = p.x + rand(-20:20), y = p.y + rand(-20:20), kwargs...))\n",
    "            end\n",
    "        end\n",
    "\n",
    "        # write data to output file\n",
    "        #[print(timestep, ',', 'Position', ',', 'Predator', ',', a.x, ',', a.y, file=f) for a in predators]\n",
    "        #[print(timestep, ',', 'Position',  ',', 'Prey', ',', a.x, ',', a.y, file=f) for a in preys]\n",
    "        #[print(timestep, ',', 'Position',  ',', 'Plant', ',', a.x, ',', a.y, file=f) for a in plants]\n",
    "\n",
    "        timestep += 1\n",
    "    end\n",
    "    if show\n",
    "        @show length(predators) length(preys) length(plants)\n",
    "    end\n",
    "end"
   ]
  },
  {
   "cell_type": "code",
   "execution_count": 8,
   "id": "318f3fe9-d714-4ac1-9c97-dd7f022cb101",
   "metadata": {},
   "outputs": [],
   "source": [
    "using BenchmarkTools"
   ]
  },
  {
   "cell_type": "code",
   "execution_count": 15,
   "id": "d7f18c30-cb02-4bd9-a0e7-6dab37e47727",
   "metadata": {},
   "outputs": [
    {
     "data": {
      "text/plain": [
       "BenchmarkTools.Trial: 12 samples with 1 evaluation.\n",
       " Range \u001b[90m(\u001b[39m\u001b[36m\u001b[1mmin\u001b[22m\u001b[39m … \u001b[35mmax\u001b[39m\u001b[90m):  \u001b[39m\u001b[36m\u001b[1m174.671 ms\u001b[22m\u001b[39m … \u001b[35m660.813 ms\u001b[39m  \u001b[90m┊\u001b[39m GC \u001b[90m(\u001b[39mmin … max\u001b[90m): \u001b[39m0.90% … 0.62%\n",
       " Time  \u001b[90m(\u001b[39m\u001b[34m\u001b[1mmedian\u001b[22m\u001b[39m\u001b[90m):     \u001b[39m\u001b[34m\u001b[1m443.718 ms               \u001b[22m\u001b[39m\u001b[90m┊\u001b[39m GC \u001b[90m(\u001b[39mmedian\u001b[90m):    \u001b[39m0.91%\n",
       " Time  \u001b[90m(\u001b[39m\u001b[32m\u001b[1mmean\u001b[22m\u001b[39m ± \u001b[32mσ\u001b[39m\u001b[90m):   \u001b[39m\u001b[32m\u001b[1m452.423 ms\u001b[22m\u001b[39m ± \u001b[32m135.848 ms\u001b[39m  \u001b[90m┊\u001b[39m GC \u001b[90m(\u001b[39mmean ± σ\u001b[90m):  \u001b[39m3.30% ± 7.21%\n",
       "\n",
       "  \u001b[39m▁\u001b[39m \u001b[39m \u001b[39m \u001b[39m \u001b[39m \u001b[39m \u001b[39m \u001b[39m \u001b[39m \u001b[39m \u001b[39m \u001b[39m \u001b[39m \u001b[39m \u001b[39m \u001b[39m \u001b[39m \u001b[39m▁\u001b[39m \u001b[39m \u001b[39m \u001b[39m \u001b[39m \u001b[39m \u001b[39m▁\u001b[39m▁\u001b[39m \u001b[39m▁\u001b[39m \u001b[39m \u001b[39m \u001b[34m▁\u001b[39m\u001b[39m \u001b[39m \u001b[32m▁\u001b[39m\u001b[39m \u001b[39m \u001b[39m \u001b[39m \u001b[39m \u001b[39m▁\u001b[39m▁\u001b[39m \u001b[39m \u001b[39m▁\u001b[39m \u001b[39m \u001b[39m \u001b[39m \u001b[39m \u001b[39m \u001b[39m \u001b[39m \u001b[39m \u001b[39m \u001b[39m \u001b[39m \u001b[39m \u001b[39m \u001b[39m█\u001b[39m \u001b[39m \n",
       "  \u001b[39m█\u001b[39m▁\u001b[39m▁\u001b[39m▁\u001b[39m▁\u001b[39m▁\u001b[39m▁\u001b[39m▁\u001b[39m▁\u001b[39m▁\u001b[39m▁\u001b[39m▁\u001b[39m▁\u001b[39m▁\u001b[39m▁\u001b[39m▁\u001b[39m▁\u001b[39m▁\u001b[39m█\u001b[39m▁\u001b[39m▁\u001b[39m▁\u001b[39m▁\u001b[39m▁\u001b[39m▁\u001b[39m█\u001b[39m█\u001b[39m▁\u001b[39m█\u001b[39m▁\u001b[39m▁\u001b[39m▁\u001b[34m█\u001b[39m\u001b[39m▁\u001b[39m▁\u001b[32m█\u001b[39m\u001b[39m▁\u001b[39m▁\u001b[39m▁\u001b[39m▁\u001b[39m▁\u001b[39m█\u001b[39m█\u001b[39m▁\u001b[39m▁\u001b[39m█\u001b[39m▁\u001b[39m▁\u001b[39m▁\u001b[39m▁\u001b[39m▁\u001b[39m▁\u001b[39m▁\u001b[39m▁\u001b[39m▁\u001b[39m▁\u001b[39m▁\u001b[39m▁\u001b[39m▁\u001b[39m▁\u001b[39m█\u001b[39m \u001b[39m▁\n",
       "  175 ms\u001b[90m           Histogram: frequency by time\u001b[39m          661 ms \u001b[0m\u001b[1m<\u001b[22m\n",
       "\n",
       " Memory estimate\u001b[90m: \u001b[39m\u001b[33m3.81 MiB\u001b[39m, allocs estimate\u001b[90m: \u001b[39m\u001b[33m30264\u001b[39m."
      ]
     },
     "execution_count": 15,
     "metadata": {},
     "output_type": "execute_result"
    }
   ],
   "source": [
    "@benchmark main(show=false)"
   ]
  },
  {
   "cell_type": "code",
   "execution_count": 13,
   "id": "f95909c9-0ec0-40d0-8a2a-53dfd155bb8d",
   "metadata": {},
   "outputs": [
    {
     "name": "stdout",
     "output_type": "stream",
     "text": [
      "  282.275 ms (48580 allocations: 104.12 MiB)\n"
     ]
    }
   ],
   "source": [
    "@btime main(show=false)"
   ]
  },
  {
   "cell_type": "code",
   "execution_count": 16,
   "id": "35e9d187-b453-44d8-b97a-ff7a0a3f9f14",
   "metadata": {},
   "outputs": [
    {
     "data": {
      "text/plain": [
       "BenchmarkTools.Trial: 11 samples with 1 evaluation.\n",
       " Range \u001b[90m(\u001b[39m\u001b[36m\u001b[1mmin\u001b[22m\u001b[39m … \u001b[35mmax\u001b[39m\u001b[90m):  \u001b[39m\u001b[36m\u001b[1m154.499 ms\u001b[22m\u001b[39m … \u001b[35m805.494 ms\u001b[39m  \u001b[90m┊\u001b[39m GC \u001b[90m(\u001b[39mmin … max\u001b[90m): \u001b[39m0.00% … 0.53%\n",
       " Time  \u001b[90m(\u001b[39m\u001b[34m\u001b[1mmedian\u001b[22m\u001b[39m\u001b[90m):     \u001b[39m\u001b[34m\u001b[1m489.060 ms               \u001b[22m\u001b[39m\u001b[90m┊\u001b[39m GC \u001b[90m(\u001b[39mmedian\u001b[90m):    \u001b[39m0.76%\n",
       " Time  \u001b[90m(\u001b[39m\u001b[32m\u001b[1mmean\u001b[22m\u001b[39m ± \u001b[32mσ\u001b[39m\u001b[90m):   \u001b[39m\u001b[32m\u001b[1m463.520 ms\u001b[22m\u001b[39m ± \u001b[32m218.922 ms\u001b[39m  \u001b[90m┊\u001b[39m GC \u001b[90m(\u001b[39mmean ± σ\u001b[90m):  \u001b[39m3.40% ± 6.51%\n",
       "\n",
       "  \u001b[39m█\u001b[39m \u001b[39m \u001b[39m \u001b[39m \u001b[39m \u001b[39m \u001b[39m \u001b[39m \u001b[39m \u001b[39m \u001b[39m \u001b[39m \u001b[39m \u001b[39m▁\u001b[39m \u001b[39m▁\u001b[39m \u001b[39m \u001b[39m \u001b[39m \u001b[39m \u001b[39m \u001b[34m▁\u001b[39m\u001b[39m \u001b[39m \u001b[39m \u001b[39m \u001b[39m \u001b[32m \u001b[39m\u001b[39m \u001b[39m▁\u001b[39m \u001b[39m \u001b[39m \u001b[39m \u001b[39m▁\u001b[39m▁\u001b[39m▁\u001b[39m \u001b[39m \u001b[39m \u001b[39m \u001b[39m \u001b[39m \u001b[39m \u001b[39m \u001b[39m \u001b[39m \u001b[39m \u001b[39m \u001b[39m \u001b[39m \u001b[39m \u001b[39m \u001b[39m \u001b[39m \u001b[39m \u001b[39m▁\u001b[39m \u001b[39m▁\u001b[39m \u001b[39m \n",
       "  \u001b[39m█\u001b[39m▁\u001b[39m▁\u001b[39m▁\u001b[39m▁\u001b[39m▁\u001b[39m▁\u001b[39m▁\u001b[39m▁\u001b[39m▁\u001b[39m▁\u001b[39m▁\u001b[39m▁\u001b[39m▁\u001b[39m█\u001b[39m▁\u001b[39m█\u001b[39m▁\u001b[39m▁\u001b[39m▁\u001b[39m▁\u001b[39m▁\u001b[39m▁\u001b[34m█\u001b[39m\u001b[39m▁\u001b[39m▁\u001b[39m▁\u001b[39m▁\u001b[39m▁\u001b[32m▁\u001b[39m\u001b[39m▁\u001b[39m█\u001b[39m▁\u001b[39m▁\u001b[39m▁\u001b[39m▁\u001b[39m█\u001b[39m█\u001b[39m█\u001b[39m▁\u001b[39m▁\u001b[39m▁\u001b[39m▁\u001b[39m▁\u001b[39m▁\u001b[39m▁\u001b[39m▁\u001b[39m▁\u001b[39m▁\u001b[39m▁\u001b[39m▁\u001b[39m▁\u001b[39m▁\u001b[39m▁\u001b[39m▁\u001b[39m▁\u001b[39m▁\u001b[39m▁\u001b[39m█\u001b[39m▁\u001b[39m█\u001b[39m \u001b[39m▁\n",
       "  154 ms\u001b[90m           Histogram: frequency by time\u001b[39m          805 ms \u001b[0m\u001b[1m<\u001b[22m\n",
       "\n",
       " Memory estimate\u001b[90m: \u001b[39m\u001b[33m3.53 MiB\u001b[39m, allocs estimate\u001b[90m: \u001b[39m\u001b[33m30242\u001b[39m."
      ]
     },
     "metadata": {},
     "output_type": "display_data"
    }
   ],
   "source": [
    "display(@benchmark main(show=false))"
   ]
  },
  {
   "cell_type": "code",
   "execution_count": null,
   "id": "2512c80f-9c6a-4bc6-a154-e3386e134ee0",
   "metadata": {},
   "outputs": [],
   "source": []
  }
 ],
 "metadata": {
  "kernelspec": {
   "display_name": "Julia",
   "language": "julia",
   "name": "julia"
  },
  "language_info": {
   "file_extension": ".jl",
   "mimetype": "application/julia",
   "name": "julia",
   "version": "1.8.5"
  }
 },
 "nbformat": 4,
 "nbformat_minor": 5
}
